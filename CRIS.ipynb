{
  "nbformat": 4,
  "nbformat_minor": 0,
  "metadata": {
    "colab": {
      "provenance": [],
      "authorship_tag": "ABX9TyMj88O7/HVj6oNie1hctfkF",
      "include_colab_link": true
    },
    "kernelspec": {
      "name": "python3",
      "display_name": "Python 3"
    },
    "language_info": {
      "name": "python"
    }
  },
  "cells": [
    {
      "cell_type": "markdown",
      "metadata": {
        "id": "view-in-github",
        "colab_type": "text"
      },
      "source": [
        "<a href=\"https://colab.research.google.com/github/sarahkorb/1minute2midnight.github.io/blob/master/CRIS.ipynb\" target=\"_parent\"><img src=\"https://colab.research.google.com/assets/colab-badge.svg\" alt=\"Open In Colab\"/></a>"
      ]
    },
    {
      "cell_type": "code",
      "execution_count": 1,
      "metadata": {
        "colab": {
          "base_uri": "https://localhost:8080/"
        },
        "id": "slW9ixTsu0Ul",
        "outputId": "1aa9a006-b874-483c-93bb-a1190d7eefb4"
      },
      "outputs": [
        {
          "output_type": "stream",
          "name": "stdout",
          "text": [
            "Cloning into 'dictionary_learning'...\n",
            "remote: Enumerating objects: 887, done.\u001b[K\n",
            "remote: Counting objects: 100% (480/480), done.\u001b[K\n",
            "remote: Compressing objects: 100% (133/133), done.\u001b[K\n",
            "remote: Total 887 (delta 385), reused 415 (delta 347), pack-reused 407 (from 1)\u001b[K\n",
            "Receiving objects: 100% (887/887), 419.26 KiB | 2.72 MiB/s, done.\n",
            "Resolving deltas: 100% (577/577), done.\n"
          ]
        }
      ],
      "source": [
        "!git clone https://github.com/sarahkorb/dictionary_learning.git"
      ]
    },
    {
      "cell_type": "code",
      "source": [
        "%cd dictionary_learning\n"
      ],
      "metadata": {
        "colab": {
          "base_uri": "https://localhost:8080/"
        },
        "id": "LNZirMHswvtV",
        "outputId": "628a1ae0-5ba5-4893-b7b8-1febb5567ac5"
      },
      "execution_count": 2,
      "outputs": [
        {
          "output_type": "stream",
          "name": "stdout",
          "text": [
            "/content/dictionary_learning\n"
          ]
        }
      ]
    },
    {
      "cell_type": "code",
      "source": [
        "!git status"
      ],
      "metadata": {
        "colab": {
          "base_uri": "https://localhost:8080/"
        },
        "id": "yACHRxdJwyuB",
        "outputId": "fcab487d-9f1b-4053-fe5a-1df6d3c1a478"
      },
      "execution_count": 3,
      "outputs": [
        {
          "output_type": "stream",
          "name": "stdout",
          "text": [
            "On branch main\n",
            "Your branch is up to date with 'origin/main'.\n",
            "\n",
            "nothing to commit, working tree clean\n"
          ]
        }
      ]
    },
    {
      "cell_type": "code",
      "source": [],
      "metadata": {
        "id": "NWxTu1-_xacl"
      },
      "execution_count": null,
      "outputs": []
    }
  ]
}